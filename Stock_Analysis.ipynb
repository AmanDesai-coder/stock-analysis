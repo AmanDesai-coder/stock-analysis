{
  "nbformat": 4,
  "nbformat_minor": 0,
  "metadata": {
    "colab": {
      "name": "Stock Analysis",
      "provenance": [],
      "collapsed_sections": [],
      "authorship_tag": "ABX9TyMyrH+8i+cT/InRrBV1mIMm",
      "include_colab_link": true
    },
    "kernelspec": {
      "name": "python3",
      "display_name": "Python 3"
    }
  },
  "cells": [
    {
      "cell_type": "markdown",
      "metadata": {
        "id": "view-in-github",
        "colab_type": "text"
      },
      "source": [
        "<a href=\"https://colab.research.google.com/github/AmanDesai-coder/stock-analysis/blob/main/Stock_Analysis.ipynb\" target=\"_parent\"><img src=\"https://colab.research.google.com/assets/colab-badge.svg\" alt=\"Open In Colab\"/></a>"
      ]
    },
    {
      "cell_type": "code",
      "metadata": {
        "id": "MMxKbJtKaqz8"
      },
      "source": [
        "import tensorflow as tf\n",
        "from tensorflow import keras\n",
        "import numpy as np\n",
        "import random\n",
        "import pandas as pd\n"
      ],
      "execution_count": 1,
      "outputs": []
    },
    {
      "cell_type": "markdown",
      "metadata": {
        "id": "fdkotGYXt53N"
      },
      "source": [
        "# New Section"
      ]
    },
    {
      "cell_type": "code",
      "metadata": {
        "id": "4vIsG0aJatLT",
        "colab": {
          "base_uri": "https://localhost:8080/",
          "height": 424
        },
        "outputId": "d350c598-d4f0-43ef-8467-079ce795deb9"
      },
      "source": [
        "stock_symbol = \"AAPL\"\n",
        "stocks = pd.read_csv(\"https://www.alphavantage.co/query?function=TIME_SERIES_DAILY&outputsize=full&symbol=\"+stock_symbol+\"&apikey=HID1RNPI5SK189KB&datatype=csv&datatype=csv\")\n",
        "stocks\n"
      ],
      "execution_count": 2,
      "outputs": [
        {
          "output_type": "execute_result",
          "data": {
            "text/html": [
              "\n",
              "  <div id=\"df-587088f8-9e1d-4197-8c3a-562797045f1e\">\n",
              "    <div class=\"colab-df-container\">\n",
              "      <div>\n",
              "<style scoped>\n",
              "    .dataframe tbody tr th:only-of-type {\n",
              "        vertical-align: middle;\n",
              "    }\n",
              "\n",
              "    .dataframe tbody tr th {\n",
              "        vertical-align: top;\n",
              "    }\n",
              "\n",
              "    .dataframe thead th {\n",
              "        text-align: right;\n",
              "    }\n",
              "</style>\n",
              "<table border=\"1\" class=\"dataframe\">\n",
              "  <thead>\n",
              "    <tr style=\"text-align: right;\">\n",
              "      <th></th>\n",
              "      <th>timestamp</th>\n",
              "      <th>open</th>\n",
              "      <th>high</th>\n",
              "      <th>low</th>\n",
              "      <th>close</th>\n",
              "      <th>volume</th>\n",
              "    </tr>\n",
              "  </thead>\n",
              "  <tbody>\n",
              "    <tr>\n",
              "      <th>0</th>\n",
              "      <td>2022-01-07</td>\n",
              "      <td>172.89</td>\n",
              "      <td>174.14</td>\n",
              "      <td>171.03</td>\n",
              "      <td>172.17</td>\n",
              "      <td>86709147</td>\n",
              "    </tr>\n",
              "    <tr>\n",
              "      <th>1</th>\n",
              "      <td>2022-01-06</td>\n",
              "      <td>172.70</td>\n",
              "      <td>175.30</td>\n",
              "      <td>171.64</td>\n",
              "      <td>172.00</td>\n",
              "      <td>96903955</td>\n",
              "    </tr>\n",
              "    <tr>\n",
              "      <th>2</th>\n",
              "      <td>2022-01-05</td>\n",
              "      <td>179.61</td>\n",
              "      <td>180.17</td>\n",
              "      <td>174.64</td>\n",
              "      <td>174.92</td>\n",
              "      <td>94537602</td>\n",
              "    </tr>\n",
              "    <tr>\n",
              "      <th>3</th>\n",
              "      <td>2022-01-04</td>\n",
              "      <td>182.63</td>\n",
              "      <td>182.94</td>\n",
              "      <td>179.12</td>\n",
              "      <td>179.70</td>\n",
              "      <td>99310438</td>\n",
              "    </tr>\n",
              "    <tr>\n",
              "      <th>4</th>\n",
              "      <td>2022-01-03</td>\n",
              "      <td>177.83</td>\n",
              "      <td>182.88</td>\n",
              "      <td>177.71</td>\n",
              "      <td>182.01</td>\n",
              "      <td>104701220</td>\n",
              "    </tr>\n",
              "    <tr>\n",
              "      <th>...</th>\n",
              "      <td>...</td>\n",
              "      <td>...</td>\n",
              "      <td>...</td>\n",
              "      <td>...</td>\n",
              "      <td>...</td>\n",
              "      <td>...</td>\n",
              "    </tr>\n",
              "    <tr>\n",
              "      <th>5579</th>\n",
              "      <td>1999-11-05</td>\n",
              "      <td>84.62</td>\n",
              "      <td>88.37</td>\n",
              "      <td>84.00</td>\n",
              "      <td>88.31</td>\n",
              "      <td>3721500</td>\n",
              "    </tr>\n",
              "    <tr>\n",
              "      <th>5580</th>\n",
              "      <td>1999-11-04</td>\n",
              "      <td>82.06</td>\n",
              "      <td>85.37</td>\n",
              "      <td>80.62</td>\n",
              "      <td>83.62</td>\n",
              "      <td>3384700</td>\n",
              "    </tr>\n",
              "    <tr>\n",
              "      <th>5581</th>\n",
              "      <td>1999-11-03</td>\n",
              "      <td>81.62</td>\n",
              "      <td>83.25</td>\n",
              "      <td>81.00</td>\n",
              "      <td>81.50</td>\n",
              "      <td>2932700</td>\n",
              "    </tr>\n",
              "    <tr>\n",
              "      <th>5582</th>\n",
              "      <td>1999-11-02</td>\n",
              "      <td>78.00</td>\n",
              "      <td>81.69</td>\n",
              "      <td>77.31</td>\n",
              "      <td>80.25</td>\n",
              "      <td>3564600</td>\n",
              "    </tr>\n",
              "    <tr>\n",
              "      <th>5583</th>\n",
              "      <td>1999-11-01</td>\n",
              "      <td>80.00</td>\n",
              "      <td>80.69</td>\n",
              "      <td>77.37</td>\n",
              "      <td>77.62</td>\n",
              "      <td>2487300</td>\n",
              "    </tr>\n",
              "  </tbody>\n",
              "</table>\n",
              "<p>5584 rows × 6 columns</p>\n",
              "</div>\n",
              "      <button class=\"colab-df-convert\" onclick=\"convertToInteractive('df-587088f8-9e1d-4197-8c3a-562797045f1e')\"\n",
              "              title=\"Convert this dataframe to an interactive table.\"\n",
              "              style=\"display:none;\">\n",
              "        \n",
              "  <svg xmlns=\"http://www.w3.org/2000/svg\" height=\"24px\"viewBox=\"0 0 24 24\"\n",
              "       width=\"24px\">\n",
              "    <path d=\"M0 0h24v24H0V0z\" fill=\"none\"/>\n",
              "    <path d=\"M18.56 5.44l.94 2.06.94-2.06 2.06-.94-2.06-.94-.94-2.06-.94 2.06-2.06.94zm-11 1L8.5 8.5l.94-2.06 2.06-.94-2.06-.94L8.5 2.5l-.94 2.06-2.06.94zm10 10l.94 2.06.94-2.06 2.06-.94-2.06-.94-.94-2.06-.94 2.06-2.06.94z\"/><path d=\"M17.41 7.96l-1.37-1.37c-.4-.4-.92-.59-1.43-.59-.52 0-1.04.2-1.43.59L10.3 9.45l-7.72 7.72c-.78.78-.78 2.05 0 2.83L4 21.41c.39.39.9.59 1.41.59.51 0 1.02-.2 1.41-.59l7.78-7.78 2.81-2.81c.8-.78.8-2.07 0-2.86zM5.41 20L4 18.59l7.72-7.72 1.47 1.35L5.41 20z\"/>\n",
              "  </svg>\n",
              "      </button>\n",
              "      \n",
              "  <style>\n",
              "    .colab-df-container {\n",
              "      display:flex;\n",
              "      flex-wrap:wrap;\n",
              "      gap: 12px;\n",
              "    }\n",
              "\n",
              "    .colab-df-convert {\n",
              "      background-color: #E8F0FE;\n",
              "      border: none;\n",
              "      border-radius: 50%;\n",
              "      cursor: pointer;\n",
              "      display: none;\n",
              "      fill: #1967D2;\n",
              "      height: 32px;\n",
              "      padding: 0 0 0 0;\n",
              "      width: 32px;\n",
              "    }\n",
              "\n",
              "    .colab-df-convert:hover {\n",
              "      background-color: #E2EBFA;\n",
              "      box-shadow: 0px 1px 2px rgba(60, 64, 67, 0.3), 0px 1px 3px 1px rgba(60, 64, 67, 0.15);\n",
              "      fill: #174EA6;\n",
              "    }\n",
              "\n",
              "    [theme=dark] .colab-df-convert {\n",
              "      background-color: #3B4455;\n",
              "      fill: #D2E3FC;\n",
              "    }\n",
              "\n",
              "    [theme=dark] .colab-df-convert:hover {\n",
              "      background-color: #434B5C;\n",
              "      box-shadow: 0px 1px 3px 1px rgba(0, 0, 0, 0.15);\n",
              "      filter: drop-shadow(0px 1px 2px rgba(0, 0, 0, 0.3));\n",
              "      fill: #FFFFFF;\n",
              "    }\n",
              "  </style>\n",
              "\n",
              "      <script>\n",
              "        const buttonEl =\n",
              "          document.querySelector('#df-587088f8-9e1d-4197-8c3a-562797045f1e button.colab-df-convert');\n",
              "        buttonEl.style.display =\n",
              "          google.colab.kernel.accessAllowed ? 'block' : 'none';\n",
              "\n",
              "        async function convertToInteractive(key) {\n",
              "          const element = document.querySelector('#df-587088f8-9e1d-4197-8c3a-562797045f1e');\n",
              "          const dataTable =\n",
              "            await google.colab.kernel.invokeFunction('convertToInteractive',\n",
              "                                                     [key], {});\n",
              "          if (!dataTable) return;\n",
              "\n",
              "          const docLinkHtml = 'Like what you see? Visit the ' +\n",
              "            '<a target=\"_blank\" href=https://colab.research.google.com/notebooks/data_table.ipynb>data table notebook</a>'\n",
              "            + ' to learn more about interactive tables.';\n",
              "          element.innerHTML = '';\n",
              "          dataTable['output_type'] = 'display_data';\n",
              "          await google.colab.output.renderOutput(dataTable, element);\n",
              "          const docLink = document.createElement('div');\n",
              "          docLink.innerHTML = docLinkHtml;\n",
              "          element.appendChild(docLink);\n",
              "        }\n",
              "      </script>\n",
              "    </div>\n",
              "  </div>\n",
              "  "
            ],
            "text/plain": [
              "       timestamp    open    high     low   close     volume\n",
              "0     2022-01-07  172.89  174.14  171.03  172.17   86709147\n",
              "1     2022-01-06  172.70  175.30  171.64  172.00   96903955\n",
              "2     2022-01-05  179.61  180.17  174.64  174.92   94537602\n",
              "3     2022-01-04  182.63  182.94  179.12  179.70   99310438\n",
              "4     2022-01-03  177.83  182.88  177.71  182.01  104701220\n",
              "...          ...     ...     ...     ...     ...        ...\n",
              "5579  1999-11-05   84.62   88.37   84.00   88.31    3721500\n",
              "5580  1999-11-04   82.06   85.37   80.62   83.62    3384700\n",
              "5581  1999-11-03   81.62   83.25   81.00   81.50    2932700\n",
              "5582  1999-11-02   78.00   81.69   77.31   80.25    3564600\n",
              "5583  1999-11-01   80.00   80.69   77.37   77.62    2487300\n",
              "\n",
              "[5584 rows x 6 columns]"
            ]
          },
          "metadata": {},
          "execution_count": 2
        }
      ]
    },
    {
      "cell_type": "code",
      "metadata": {
        "id": "dKpZ0shkbgT_",
        "colab": {
          "base_uri": "https://localhost:8080/"
        },
        "outputId": "c063c2f6-4864-4e42-da16-f33d3aba9cf8"
      },
      "source": [
        "#data = stocks[['Open', 'Low', 'Close', 'Volume']].to_numpy()\n",
        "fraction = 0.2\n",
        "input_data = stocks[['open', 'low']].to_numpy()\n",
        "\n",
        "training_x = input_data[int(len(input_data)*fraction):]\n",
        "#training_x = input_data[:]\n",
        "training_x_max = np.max(training_x, axis = 0)\n",
        "\n",
        "testing_x = input_data[:int(len(input_data)*fraction)]\n",
        "\n",
        "training_x = training_x/training_x_max\n",
        "#testing_x = testing_x/training_x_max\n",
        "\n",
        "\n",
        "result_data = stocks[['high']].to_numpy()\n",
        "\n",
        "training_y = result_data[int(len(input_data)*fraction):]\n",
        "#training_y = result_data[:]\n",
        "training_y_max = np.max(training_y, axis = 0)\n",
        "\n",
        "testing_y = result_data[:int(len(input_data)*fraction)]\n",
        "\n",
        "training_y = training_y/training_y_max\n",
        "#testing_y = testing_y/training_y_max\n",
        "testing_x"
      ],
      "execution_count": 3,
      "outputs": [
        {
          "output_type": "execute_result",
          "data": {
            "text/plain": [
              "array([[172.89  , 171.03  ],\n",
              "       [172.7   , 171.64  ],\n",
              "       [179.61  , 174.64  ],\n",
              "       ...,\n",
              "       [158.6   , 158.27  ],\n",
              "       [157.06  , 156.6701],\n",
              "       [156.07  , 155.69  ]])"
            ]
          },
          "metadata": {},
          "execution_count": 3
        }
      ]
    },
    {
      "cell_type": "code",
      "metadata": {
        "id": "YPTkXgM2ct5-"
      },
      "source": [
        "def build_predictive_model(x_train, y_train):  \n",
        "  layer_1 = tf.keras.layers.Dense(16, input_shape = [2], activation = tf.keras.layers.LeakyReLU(), kernel_initializer='glorot_normal')\n",
        "  layer_2 = tf.keras.layers.Dropout(0.3)\n",
        "  layer_3 = tf.keras.layers.Dense(32)\n",
        "  layer_4 = tf.keras.layers.Dense(16, activation = tf.keras.layers.LeakyReLU(), kernel_initializer='glorot_normal')\n",
        "  layer_5 = tf.keras.layers.Dense(4, activation = tf.keras.layers.LeakyReLU(), kernel_initializer='glorot_normal')\n",
        "  layer_6 = tf.keras.layers.Dense(1)\n",
        "  model = tf.keras.Sequential([layer_1, layer_4, layer_5, layer_6])\n",
        "  model.compile(optimizer = 'adam', loss = 'mean_absolute_error', metrics = ['mean_absolute_error'])\n",
        "  model.fit(x_train, y_train, epochs = 20, verbose= 1, batch_size=32)\n",
        "  return model\n"
      ],
      "execution_count": 4,
      "outputs": []
    },
    {
      "cell_type": "code",
      "metadata": {
        "id": "ztJXm3k8eGcY",
        "colab": {
          "base_uri": "https://localhost:8080/"
        },
        "outputId": "d5df68e8-c434-47c4-85ca-f4bd773e9686"
      },
      "source": [
        "\n",
        "model = build_predictive_model(training_x, training_y)\n",
        "\n"
      ],
      "execution_count": 5,
      "outputs": [
        {
          "output_type": "stream",
          "name": "stdout",
          "text": [
            "Epoch 1/20\n",
            "140/140 [==============================] - 1s 2ms/step - loss: 0.1086 - mean_absolute_error: 0.1086\n",
            "Epoch 2/20\n",
            "140/140 [==============================] - 0s 2ms/step - loss: 0.0031 - mean_absolute_error: 0.0031\n",
            "Epoch 3/20\n",
            "140/140 [==============================] - 0s 2ms/step - loss: 0.0022 - mean_absolute_error: 0.0022\n",
            "Epoch 4/20\n",
            "140/140 [==============================] - 0s 2ms/step - loss: 0.0021 - mean_absolute_error: 0.0021\n",
            "Epoch 5/20\n",
            "140/140 [==============================] - 0s 2ms/step - loss: 0.0021 - mean_absolute_error: 0.0021\n",
            "Epoch 6/20\n",
            "140/140 [==============================] - 0s 2ms/step - loss: 0.0020 - mean_absolute_error: 0.0020\n",
            "Epoch 7/20\n",
            "140/140 [==============================] - 0s 2ms/step - loss: 0.0021 - mean_absolute_error: 0.0021\n",
            "Epoch 8/20\n",
            "140/140 [==============================] - 0s 2ms/step - loss: 0.0020 - mean_absolute_error: 0.0020\n",
            "Epoch 9/20\n",
            "140/140 [==============================] - 0s 2ms/step - loss: 0.0019 - mean_absolute_error: 0.0019\n",
            "Epoch 10/20\n",
            "140/140 [==============================] - 0s 2ms/step - loss: 0.0020 - mean_absolute_error: 0.0020\n",
            "Epoch 11/20\n",
            "140/140 [==============================] - 0s 2ms/step - loss: 0.0021 - mean_absolute_error: 0.0021\n",
            "Epoch 12/20\n",
            "140/140 [==============================] - 0s 2ms/step - loss: 0.0019 - mean_absolute_error: 0.0019\n",
            "Epoch 13/20\n",
            "140/140 [==============================] - 0s 2ms/step - loss: 0.0021 - mean_absolute_error: 0.0021\n",
            "Epoch 14/20\n",
            "140/140 [==============================] - 0s 2ms/step - loss: 0.0020 - mean_absolute_error: 0.0020\n",
            "Epoch 15/20\n",
            "140/140 [==============================] - 0s 2ms/step - loss: 0.0020 - mean_absolute_error: 0.0020\n",
            "Epoch 16/20\n",
            "140/140 [==============================] - 0s 2ms/step - loss: 0.0020 - mean_absolute_error: 0.0020\n",
            "Epoch 17/20\n",
            "140/140 [==============================] - 0s 2ms/step - loss: 0.0021 - mean_absolute_error: 0.0021\n",
            "Epoch 18/20\n",
            "140/140 [==============================] - 0s 2ms/step - loss: 0.0020 - mean_absolute_error: 0.0020\n",
            "Epoch 19/20\n",
            "140/140 [==============================] - 0s 2ms/step - loss: 0.0022 - mean_absolute_error: 0.0022\n",
            "Epoch 20/20\n",
            "140/140 [==============================] - 0s 2ms/step - loss: 0.0021 - mean_absolute_error: 0.0021\n"
          ]
        }
      ]
    },
    {
      "cell_type": "code",
      "metadata": {
        "id": "mgiOENckkrBf",
        "colab": {
          "base_uri": "https://localhost:8080/",
          "height": 279
        },
        "outputId": "0af41c1e-b6f1-4237-968c-1c36621a4749"
      },
      "source": [
        "import matplotlib.pyplot as plt\n",
        "\n",
        "fig = plt.figure()\n",
        "ax = fig.add_subplot(111)\n",
        "ax.set_xlabel('Day')\n",
        "ax.set_ylabel('Percent Error')\n",
        "\n",
        "ax.plot((model.predict(testing_x/training_x_max)*training_y_max-testing_y)/testing_y*100)\n",
        "plt.show()"
      ],
      "execution_count": 6,
      "outputs": [
        {
          "output_type": "display_data",
          "data": {
            "image/png": "[encoded data removed]",
            "text/plain": [
              "<Figure size 432x288 with 1 Axes>"
            ]
          },
          "metadata": {
            "needs_background": "light"
          }
        }
      ]
    },
    {
      "cell_type": "code",
      "metadata": {
        "id": "zaAW9XyZRqi0",
        "colab": {
          "base_uri": "https://localhost:8080/"
        },
        "outputId": "76ae73c0-d793-4fd5-868f-89ad9304026c"
      },
      "source": [
        "avg_diff = np.average((model.predict(testing_x/training_x_max)*training_y_max-testing_y))\n",
        "avg_percent = np.average((model.predict(testing_x/training_x_max)*training_y_max-testing_y)/testing_y*100)\n",
        "print(avg_diff)\n",
        "print(\"The average difference between predicted and actual stock price is %f\" % avg_diff)\n",
        "print(\"The average percentage difference between predicted and actual stock price is %f\" % avg_percent)"
      ],
      "execution_count": 7,
      "outputs": [
        {
          "output_type": "stream",
          "name": "stdout",
          "text": [
            "-0.23435370685892046\n",
            "The average difference between predicted and actual stock price is -0.234354\n",
            "The average percentage difference between predicted and actual stock price is -0.093544\n"
          ]
        }
      ]
    },
    {
      "cell_type": "code",
      "metadata": {
        "id": "k1YrmGALxspy",
        "colab": {
          "base_uri": "https://localhost:8080/"
        },
        "outputId": "005a9ff1-326c-46a0-dc68-59d0a6bfd521"
      },
      "source": [
        "def predict_from_low(low, open):\n",
        "  res = model.predict([[low, open]]/training_x_max)*training_y_max\n",
        "  print(\"$\", res[0][0])\n",
        "predict_from_low(181.30, 177.19)"
      ],
      "execution_count": 8,
      "outputs": [
        {
          "output_type": "stream",
          "name": "stdout",
          "text": [
            "$ 182.50888823240996\n"
          ]
        }
      ]
    },
    {
      "cell_type": "markdown",
      "metadata": {
        "id": "wZOoexDBVl7p"
      },
      "source": [
        ""
      ]
    }
  ]
}