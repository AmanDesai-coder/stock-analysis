{
  "nbformat": 4,
  "nbformat_minor": 0,
  "metadata": {
    "colab": {
      "name": "Stock Analysis",
      "provenance": [],
      "authorship_tag": "ABX9TyPmsvexe+GZfAGr6euLaP7G",
      "include_colab_link": true
    },
    "kernelspec": {
      "name": "python3",
      "display_name": "Python 3"
    }
  },
  "cells": [
    {
      "cell_type": "markdown",
      "metadata": {
        "id": "view-in-github",
        "colab_type": "text"
      },
      "source": [
        "<a href=\"https://colab.research.google.com/github/AmanDesai-coder/stock-analysis/blob/main/Stock_Analysis.ipynb\" target=\"_parent\"><img src=\"https://colab.research.google.com/assets/colab-badge.svg\" alt=\"Open In Colab\"/></a>"
      ]
    },
    {
      "cell_type": "code",
      "metadata": {
        "id": "MMxKbJtKaqz8"
      },
      "source": [
        "import tensorflow as tf\n",
        "from tensorflow import keras\n",
        "import numpy as np\n",
        "import random\n",
        "import pandas as pd\n"
      ],
      "execution_count": null,
      "outputs": []
    },
    {
      "cell_type": "markdown",
      "metadata": {
        "id": "fdkotGYXt53N"
      },
      "source": [
        "# New Section"
      ]
    },
    {
      "cell_type": "code",
      "metadata": {
        "id": "4vIsG0aJatLT",
        "outputId": "2dc37df8-d52c-4354-b8b2-5bb25a1d9219",
        "colab": {
          "base_uri": "https://localhost:8080/",
          "height": 391
        }
      },
      "source": [
        "stock_symbol = \"APL\"\n",
        "stocks = pd.read_csv(\"https://www.alphavantage.co/query?function=TIME_SERIES_DAILY&outputsize=full&symbol=\"+stock_symbol+\"&apikey=HID1RNPI5SK189KB&datatype=csv&datatype=csv\")\n",
        "stocks\n"
      ],
      "execution_count": null,
      "outputs": [
        {
          "output_type": "execute_result",
          "data": {
            "text/html": [
              "<div>\n",
              "<style scoped>\n",
              "    .dataframe tbody tr th:only-of-type {\n",
              "        vertical-align: middle;\n",
              "    }\n",
              "\n",
              "    .dataframe tbody tr th {\n",
              "        vertical-align: top;\n",
              "    }\n",
              "\n",
              "    .dataframe thead th {\n",
              "        text-align: right;\n",
              "    }\n",
              "</style>\n",
              "<table border=\"1\" class=\"dataframe\">\n",
              "  <thead>\n",
              "    <tr style=\"text-align: right;\">\n",
              "      <th></th>\n",
              "      <th>timestamp</th>\n",
              "      <th>open</th>\n",
              "      <th>high</th>\n",
              "      <th>low</th>\n",
              "      <th>close</th>\n",
              "      <th>volume</th>\n",
              "    </tr>\n",
              "  </thead>\n",
              "  <tbody>\n",
              "    <tr>\n",
              "      <th>0</th>\n",
              "      <td>2015-02-27</td>\n",
              "      <td>26.85</td>\n",
              "      <td>27.1600</td>\n",
              "      <td>26.520</td>\n",
              "      <td>26.63</td>\n",
              "      <td>1599515</td>\n",
              "    </tr>\n",
              "    <tr>\n",
              "      <th>1</th>\n",
              "      <td>2015-02-26</td>\n",
              "      <td>27.41</td>\n",
              "      <td>27.5599</td>\n",
              "      <td>26.720</td>\n",
              "      <td>27.08</td>\n",
              "      <td>542364</td>\n",
              "    </tr>\n",
              "    <tr>\n",
              "      <th>2</th>\n",
              "      <td>2015-02-25</td>\n",
              "      <td>27.13</td>\n",
              "      <td>27.6400</td>\n",
              "      <td>27.070</td>\n",
              "      <td>27.45</td>\n",
              "      <td>552061</td>\n",
              "    </tr>\n",
              "    <tr>\n",
              "      <th>3</th>\n",
              "      <td>2015-02-24</td>\n",
              "      <td>27.31</td>\n",
              "      <td>27.6500</td>\n",
              "      <td>27.055</td>\n",
              "      <td>27.29</td>\n",
              "      <td>509065</td>\n",
              "    </tr>\n",
              "    <tr>\n",
              "      <th>4</th>\n",
              "      <td>2015-02-23</td>\n",
              "      <td>27.21</td>\n",
              "      <td>27.4400</td>\n",
              "      <td>26.640</td>\n",
              "      <td>27.35</td>\n",
              "      <td>3881194</td>\n",
              "    </tr>\n",
              "    <tr>\n",
              "      <th>...</th>\n",
              "      <td>...</td>\n",
              "      <td>...</td>\n",
              "      <td>...</td>\n",
              "      <td>...</td>\n",
              "      <td>...</td>\n",
              "      <td>...</td>\n",
              "    </tr>\n",
              "    <tr>\n",
              "      <th>3789</th>\n",
              "      <td>2000-02-03</td>\n",
              "      <td>11.75</td>\n",
              "      <td>11.7500</td>\n",
              "      <td>11.750</td>\n",
              "      <td>11.75</td>\n",
              "      <td>10000</td>\n",
              "    </tr>\n",
              "    <tr>\n",
              "      <th>3790</th>\n",
              "      <td>2000-02-02</td>\n",
              "      <td>12.00</td>\n",
              "      <td>12.3800</td>\n",
              "      <td>11.500</td>\n",
              "      <td>11.75</td>\n",
              "      <td>31100</td>\n",
              "    </tr>\n",
              "    <tr>\n",
              "      <th>3791</th>\n",
              "      <td>2000-02-01</td>\n",
              "      <td>12.25</td>\n",
              "      <td>12.3800</td>\n",
              "      <td>12.000</td>\n",
              "      <td>12.00</td>\n",
              "      <td>14300</td>\n",
              "    </tr>\n",
              "    <tr>\n",
              "      <th>3792</th>\n",
              "      <td>2000-01-31</td>\n",
              "      <td>12.38</td>\n",
              "      <td>12.5000</td>\n",
              "      <td>12.130</td>\n",
              "      <td>12.38</td>\n",
              "      <td>26300</td>\n",
              "    </tr>\n",
              "    <tr>\n",
              "      <th>3793</th>\n",
              "      <td>2000-01-28</td>\n",
              "      <td>12.75</td>\n",
              "      <td>12.8800</td>\n",
              "      <td>12.000</td>\n",
              "      <td>12.38</td>\n",
              "      <td>373100</td>\n",
              "    </tr>\n",
              "  </tbody>\n",
              "</table>\n",
              "<p>3794 rows × 6 columns</p>\n",
              "</div>"
            ],
            "text/plain": [
              "       timestamp   open     high     low  close   volume\n",
              "0     2015-02-27  26.85  27.1600  26.520  26.63  1599515\n",
              "1     2015-02-26  27.41  27.5599  26.720  27.08   542364\n",
              "2     2015-02-25  27.13  27.6400  27.070  27.45   552061\n",
              "3     2015-02-24  27.31  27.6500  27.055  27.29   509065\n",
              "4     2015-02-23  27.21  27.4400  26.640  27.35  3881194\n",
              "...          ...    ...      ...     ...    ...      ...\n",
              "3789  2000-02-03  11.75  11.7500  11.750  11.75    10000\n",
              "3790  2000-02-02  12.00  12.3800  11.500  11.75    31100\n",
              "3791  2000-02-01  12.25  12.3800  12.000  12.00    14300\n",
              "3792  2000-01-31  12.38  12.5000  12.130  12.38    26300\n",
              "3793  2000-01-28  12.75  12.8800  12.000  12.38   373100\n",
              "\n",
              "[3794 rows x 6 columns]"
            ]
          },
          "metadata": {
            "tags": []
          },
          "execution_count": 2
        }
      ]
    },
    {
      "cell_type": "code",
      "metadata": {
        "id": "dKpZ0shkbgT_",
        "outputId": "8432375f-f48b-453a-fb79-c6e2522ee579",
        "colab": {
          "base_uri": "https://localhost:8080/"
        }
      },
      "source": [
        "#data = stocks[['Open', 'Low', 'Close', 'Volume']].to_numpy()\n",
        "fraction = 0.2\n",
        "input_data = stocks[['open', 'low']].to_numpy()\n",
        "\n",
        "training_x = input_data[int(len(input_data)*fraction):]\n",
        "training_x_max = np.max(training_x, axis = 0)\n",
        "\n",
        "testing_x = input_data[:int(len(input_data)*fraction)]\n",
        "\n",
        "training_x = training_x/training_x_max\n",
        "#testing_x = testing_x/training_x_max\n",
        "\n",
        "\n",
        "result_data = stocks[['high']].to_numpy()\n",
        "\n",
        "training_y = result_data[int(len(input_data)*fraction):]\n",
        "training_y_max = np.max(training_y, axis = 0)\n",
        "\n",
        "testing_y = result_data[:int(len(input_data)*fraction)]\n",
        "\n",
        "training_y = training_y/training_y_max\n",
        "#testing_y = testing_y/training_y_max\n",
        "testing_x"
      ],
      "execution_count": null,
      "outputs": [
        {
          "output_type": "execute_result",
          "data": {
            "text/plain": [
              "array([[26.85, 26.52],\n",
              "       [27.41, 26.72],\n",
              "       [27.13, 27.07],\n",
              "       ...,\n",
              "       [37.67, 37.6 ],\n",
              "       [37.38, 37.14],\n",
              "       [36.45, 36.4 ]])"
            ]
          },
          "metadata": {
            "tags": []
          },
          "execution_count": 3
        }
      ]
    },
    {
      "cell_type": "code",
      "metadata": {
        "id": "YPTkXgM2ct5-"
      },
      "source": [
        "def build_predictive_model(x_train, y_train):  \n",
        "  layer_1 = tf.keras.layers.Dense(16, input_shape = [2], activation = tf.keras.layers.LeakyReLU(), kernel_initializer='glorot_normal')\n",
        "  layer_2 = tf.keras.layers.Dropout(0.3)\n",
        "  layer_3 = tf.keras.layers.Dense(32)\n",
        "  layer_4 = tf.keras.layers.Dense(16, activation = tf.keras.layers.LeakyReLU(), kernel_initializer='glorot_normal')\n",
        "  layer_5 = tf.keras.layers.Dense(4, activation = tf.keras.layers.LeakyReLU(), kernel_initializer='glorot_normal')\n",
        "  layer_6 = tf.keras.layers.Dense(1)\n",
        "  model = tf.keras.Sequential([layer_1, layer_4, layer_5, layer_6])\n",
        "  model.compile(optimizer = 'adam', loss = 'mean_absolute_error', metrics = ['mean_absolute_error'])\n",
        "  model.fit(x_train, y_train, epochs = 10, verbose= 1, batch_size=32)\n",
        "  return model\n"
      ],
      "execution_count": null,
      "outputs": []
    },
    {
      "cell_type": "code",
      "metadata": {
        "id": "ztJXm3k8eGcY",
        "outputId": "40b40a9d-4ab7-4a7d-dae7-0c8dcc1fc311",
        "colab": {
          "base_uri": "https://localhost:8080/",
          "height": 375
        }
      },
      "source": [
        "\n",
        "\n",
        "\n",
        "model = build_predictive_model(training_x, training_y)\n",
        "model.evaluate(testing_x/training_x_max, testing_y/training_y_max)\n",
        "\n",
        "\n",
        "\n",
        "\n",
        "model.predict([[477.05, 477]]/training_x_max)*training_y_max"
      ],
      "execution_count": null,
      "outputs": [
        {
          "output_type": "stream",
          "text": [
            "Epoch 1/10\n",
            "95/95 [==============================] - 0s 922us/step - loss: 0.2251 - mean_absolute_error: 0.2251\n",
            "Epoch 2/10\n",
            "95/95 [==============================] - 0s 1ms/step - loss: 0.0362 - mean_absolute_error: 0.0362\n",
            "Epoch 3/10\n",
            "95/95 [==============================] - 0s 895us/step - loss: 0.0067 - mean_absolute_error: 0.0067\n",
            "Epoch 4/10\n",
            "95/95 [==============================] - 0s 985us/step - loss: 0.0065 - mean_absolute_error: 0.0065\n",
            "Epoch 5/10\n",
            "95/95 [==============================] - 0s 940us/step - loss: 0.0062 - mean_absolute_error: 0.0062\n",
            "Epoch 6/10\n",
            "95/95 [==============================] - 0s 893us/step - loss: 0.0065 - mean_absolute_error: 0.0065\n",
            "Epoch 7/10\n",
            "95/95 [==============================] - 0s 931us/step - loss: 0.0061 - mean_absolute_error: 0.0061\n",
            "Epoch 8/10\n",
            "95/95 [==============================] - 0s 977us/step - loss: 0.0063 - mean_absolute_error: 0.0063\n",
            "Epoch 9/10\n",
            "95/95 [==============================] - 0s 921us/step - loss: 0.0059 - mean_absolute_error: 0.0059\n",
            "Epoch 10/10\n",
            "95/95 [==============================] - 0s 988us/step - loss: 0.0060 - mean_absolute_error: 0.0060\n",
            "24/24 [==============================] - 0s 1ms/step - loss: 0.0044 - mean_absolute_error: 0.0044\n"
          ],
          "name": "stdout"
        },
        {
          "output_type": "execute_result",
          "data": {
            "text/plain": [
              "array([[473.74937004]])"
            ]
          },
          "metadata": {
            "tags": []
          },
          "execution_count": 18
        }
      ]
    },
    {
      "cell_type": "code",
      "metadata": {
        "id": "mgiOENckkrBf",
        "outputId": "a5abc908-75ec-4781-b958-962043b03a7e",
        "colab": {
          "base_uri": "https://localhost:8080/",
          "height": 278
        }
      },
      "source": [
        "import matplotlib.pyplot as plt\n",
        "\n",
        "fig = plt.figure()\n",
        "ax = fig.add_subplot(111)\n",
        "ax.set_xlabel('Day')\n",
        "ax.set_ylabel('Percent Error')\n",
        "\n",
        "ax.plot((model.predict(testing_x/training_x_max)*training_y_max-testing_y)/testing_y*100)\n",
        "plt.show()"
      ],
      "execution_count": null,
      "outputs": [
        {
          "output_type": "display_data",
          "data": {
            "image/png": "[encoded data removed]",
            "text/plain": [
              "<Figure size 432x288 with 1 Axes>"
            ]
          },
          "metadata": {
            "tags": [],
            "needs_background": "light"
          }
        }
      ]
    },
    {
      "cell_type": "code",
      "metadata": {
        "id": "zaAW9XyZRqi0",
        "outputId": "de164019-fbf7-4762-b6e1-74a7ec6e6667",
        "colab": {
          "base_uri": "https://localhost:8080/",
          "height": 33
        }
      },
      "source": [
        "\n",
        "np.average((model.predict(testing_x/training_x_max)*training_y_max-testing_y)/testing_y)\n"
      ],
      "execution_count": null,
      "outputs": [
        {
          "output_type": "execute_result",
          "data": {
            "text/plain": [
              "0.0001768235874826743"
            ]
          },
          "metadata": {
            "tags": []
          },
          "execution_count": 15
        }
      ]
    },
    {
      "cell_type": "markdown",
      "metadata": {
        "id": "wZOoexDBVl7p"
      },
      "source": [
        ""
      ]
    }
  ]
}